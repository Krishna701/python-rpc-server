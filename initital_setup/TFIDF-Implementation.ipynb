{
 "cells": [
  {
   "cell_type": "code",
   "execution_count": null,
   "metadata": {},
   "outputs": [],
   "source": []
  },
  {
   "cell_type": "code",
   "execution_count": 1,
   "metadata": {},
   "outputs": [
    {
     "name": "stderr",
     "output_type": "stream",
     "text": [
      "'wget' is not recognized as an internal or external command,\n",
      "operable program or batch file.\n"
     ]
    }
   ],
   "source": [
    "!wget https://lazyprogrammer.me/course_files/nlp/tmdb_5000_movies.csv"
   ]
  },
  {
   "cell_type": "code",
   "execution_count": 2,
   "metadata": {},
   "outputs": [
    {
     "name": "stdout",
     "output_type": "stream",
     "text": [
      "Recommendations for 'Scream 3' : \n"
     ]
    },
    {
     "ename": "NameError",
     "evalue": "name 'movie2idx' is not defined",
     "output_type": "error",
     "traceback": [
      "\u001b[1;31m---------------------------------------------------------------------------\u001b[0m",
      "\u001b[1;31mNameError\u001b[0m                                 Traceback (most recent call last)",
      "\u001b[1;32m~\\AppData\\Local\\Temp/ipykernel_4256/3019410507.py\u001b[0m in \u001b[0;36m<module>\u001b[1;34m\u001b[0m\n\u001b[0;32m      7\u001b[0m \u001b[1;32mfrom\u001b[0m \u001b[0msklearn\u001b[0m\u001b[1;33m.\u001b[0m\u001b[0mmetrics\u001b[0m\u001b[1;33m.\u001b[0m\u001b[0mpairwise\u001b[0m \u001b[1;32mimport\u001b[0m \u001b[0mcosine_similarity\u001b[0m\u001b[1;33m,\u001b[0m \u001b[0meuclidean_distances\u001b[0m\u001b[1;33m\u001b[0m\u001b[1;33m\u001b[0m\u001b[0m\n\u001b[0;32m      8\u001b[0m \u001b[1;33m\u001b[0m\u001b[0m\n\u001b[1;32m----> 9\u001b[1;33m \u001b[1;32mclass\u001b[0m \u001b[0mIFIDF\u001b[0m\u001b[1;33m:\u001b[0m\u001b[1;33m\u001b[0m\u001b[1;33m\u001b[0m\u001b[0m\n\u001b[0m\u001b[0;32m     10\u001b[0m \u001b[1;33m\u001b[0m\u001b[0m\n\u001b[0;32m     11\u001b[0m     \u001b[0mdf\u001b[0m \u001b[1;33m=\u001b[0m \u001b[0mpd\u001b[0m\u001b[1;33m.\u001b[0m\u001b[0mread_csv\u001b[0m\u001b[1;33m(\u001b[0m\u001b[1;34m'tmdb_5000_movies.csv'\u001b[0m\u001b[1;33m)\u001b[0m\u001b[1;33m\u001b[0m\u001b[1;33m\u001b[0m\u001b[0m\n",
      "\u001b[1;32m~\\AppData\\Local\\Temp/ipykernel_4256/3019410507.py\u001b[0m in \u001b[0;36mIFIDF\u001b[1;34m()\u001b[0m\n\u001b[0;32m     63\u001b[0m \u001b[1;33m\u001b[0m\u001b[0m\n\u001b[0;32m     64\u001b[0m     \u001b[0mprint\u001b[0m\u001b[1;33m(\u001b[0m\u001b[1;34m\"Recommendations for 'Scream 3' : \"\u001b[0m\u001b[1;33m)\u001b[0m\u001b[1;33m\u001b[0m\u001b[1;33m\u001b[0m\u001b[0m\n\u001b[1;32m---> 65\u001b[1;33m     \u001b[0mprint\u001b[0m\u001b[1;33m(\u001b[0m\u001b[0mrecommend\u001b[0m\u001b[1;33m(\u001b[0m\u001b[1;34m'Scream 3'\u001b[0m\u001b[1;33m)\u001b[0m\u001b[1;33m)\u001b[0m\u001b[1;33m\u001b[0m\u001b[1;33m\u001b[0m\u001b[0m\n\u001b[0m\u001b[0;32m     66\u001b[0m \u001b[1;33m\u001b[0m\u001b[0m\n\u001b[0;32m     67\u001b[0m     \u001b[0mprint\u001b[0m\u001b[1;33m(\u001b[0m\u001b[1;34m\"Recommendations for 'Mortal Kombat' : \"\u001b[0m\u001b[1;33m)\u001b[0m\u001b[1;33m\u001b[0m\u001b[1;33m\u001b[0m\u001b[0m\n",
      "\u001b[1;32m~\\AppData\\Local\\Temp/ipykernel_4256/3019410507.py\u001b[0m in \u001b[0;36mrecommend\u001b[1;34m(title)\u001b[0m\n\u001b[0;32m     53\u001b[0m \u001b[1;33m\u001b[0m\u001b[0m\n\u001b[0;32m     54\u001b[0m     \u001b[1;32mdef\u001b[0m \u001b[0mrecommend\u001b[0m\u001b[1;33m(\u001b[0m\u001b[0mtitle\u001b[0m\u001b[1;33m)\u001b[0m\u001b[1;33m:\u001b[0m\u001b[1;33m\u001b[0m\u001b[1;33m\u001b[0m\u001b[0m\n\u001b[1;32m---> 55\u001b[1;33m         \u001b[0midx\u001b[0m \u001b[1;33m=\u001b[0m \u001b[0mmovie2idx\u001b[0m\u001b[1;33m[\u001b[0m\u001b[0mtitle\u001b[0m\u001b[1;33m]\u001b[0m\u001b[1;33m\u001b[0m\u001b[1;33m\u001b[0m\u001b[0m\n\u001b[0m\u001b[0;32m     56\u001b[0m         \u001b[1;32mif\u001b[0m \u001b[0mtype\u001b[0m\u001b[1;33m(\u001b[0m\u001b[0midx\u001b[0m\u001b[1;33m)\u001b[0m \u001b[1;33m==\u001b[0m \u001b[0mpd\u001b[0m\u001b[1;33m.\u001b[0m\u001b[0mSeries\u001b[0m\u001b[1;33m:\u001b[0m\u001b[1;33m\u001b[0m\u001b[1;33m\u001b[0m\u001b[0m\n\u001b[0;32m     57\u001b[0m             \u001b[0midx\u001b[0m \u001b[1;33m=\u001b[0m \u001b[0midx\u001b[0m\u001b[1;33m.\u001b[0m\u001b[0miloc\u001b[0m\u001b[1;33m[\u001b[0m\u001b[1;36m0\u001b[0m\u001b[1;33m]\u001b[0m\u001b[1;33m\u001b[0m\u001b[1;33m\u001b[0m\u001b[0m\n",
      "\u001b[1;31mNameError\u001b[0m: name 'movie2idx' is not defined"
     ]
    },
    {
     "data": {
      "image/png": "[encoded data removed]",
      "text/plain": [
       "<Figure size 432x288 with 1 Axes>"
      ]
     },
     "metadata": {
      "needs_background": "light"
     },
     "output_type": "display_data"
    }
   ],
   "source": [
    "import pandas as pd \n",
    "import numpy as np\n",
    "import matplotlib.pyplot as plt\n",
    "import json\n",
    "\n",
    "from sklearn.feature_extraction.text import TfidfVectorizer\n",
    "from sklearn.metrics.pairwise import cosine_similarity, euclidean_distances\n",
    "\n",
    "class IFIDF:\n",
    "\n",
    "    df = pd.read_csv('tmdb_5000_movies.csv')\n",
    "    df.head()\n",
    "    x = df.iloc[0]\n",
    "    #print(x)\n",
    "    #print(x['genres'])\n",
    "    #print(x['keywords'])\n",
    "    j = json.loads(x['genres'])\n",
    "    #print(j)\n",
    "    ' '.join(''.join(jj['name'].split()) for jj in j)\n",
    "\n",
    "\n",
    "# convert the relevent data for each movie into a single string\n",
    "# to be injested in the TFIDFVectorizer\n",
    "    def genres_and_KeyWord_to_string(row):\n",
    "        genres = json.loads(row['genres'])\n",
    "        genres = ' '.join(''.join(j['name'].split()) for j in genres)\n",
    "\n",
    "        keywords = json.loads(row['keywords'])\n",
    "        keywords = ' '.join(''.join(j['name'].split()) for j in keywords)\n",
    "\n",
    "        return '%s %s' % (genres,keywords)\n",
    "    \n",
    "    df['string'] = df.apply(genres_and_KeyWord_to_string, axis = 1)\n",
    "    tfidf = TfidfVectorizer(max_features=2000)\n",
    "    X = tfidf.fit_transform(df['string'])\n",
    "    #print(X)\n",
    "    movie2idx = pd.Series(df.index, index=df['title'])\n",
    "    #print(movie2idx)\n",
    "    idx = movie2idx['Scream 3']\n",
    "    #print(idx)\n",
    "    query = X[idx]\n",
    "    #print(query)\n",
    "    query.toarray()\n",
    "    scores = cosine_similarity(query, X)\n",
    "    #print(scores)\n",
    "    scores = scores.flatten()\n",
    "    plt.plot(scores)\n",
    "    (-scores).argsort()\n",
    "    plt.plot(scores[(-scores).argsort(0)]);\n",
    "    recommend_idx = (-scores).argsort()[1:6]\n",
    "    df['title'].iloc[recommend_idx]\n",
    "\n",
    "\n",
    "    def recommend(title):    \n",
    "        idx = movie2idx[title]\n",
    "        if type(idx) == pd.Series:\n",
    "            idx = idx.iloc[0]\n",
    "        query = X[idx]\n",
    "        scores = cosine_similarity(query, X)\n",
    "        scores = scores.flatten()\n",
    "        recommend_idx = (-scores).argsort()[1:6]\n",
    "        return df['title'].iloc[recommend_idx]\n",
    "\n",
    "    print(\"Recommendations for 'Scream 3' : \")\n",
    "    print(recommend('Scream 3'))\n",
    "\n",
    "    print(\"Recommendations for 'Mortal Kombat' : \")\n",
    "    print(recommend('Mortal Kombat'))\n",
    "\n",
    "    print(\"Recommendations for 'Runaway Bride' : \")\n",
    "    print(recommend('Runaway Bride'))\n",
    "\n",
    " \n",
    "\n"
   ]
  }
 ],
 "metadata": {
  "interpreter": {
   "hash": "de619bd321c255b2a246d18dc680029846a2ef2b3071493ac20c53cc4ac4191f"
  },
  "jupytext": {
   "formats": "ipynb,py"
  },
  "kernelspec": {
   "display_name": "Python 3 (ipykernel)",
   "language": "python",
   "name": "python3"
  },
  "language_info": {
   "codemirror_mode": {
    "name": "ipython",
    "version": 3
   },
   "file_extension": ".py",
   "mimetype": "text/x-python",
   "name": "python",
   "nbconvert_exporter": "python",
   "pygments_lexer": "ipython3",
   "version": "3.9.7"
  }
 },
 "nbformat": 4,
 "nbformat_minor": 2
}
